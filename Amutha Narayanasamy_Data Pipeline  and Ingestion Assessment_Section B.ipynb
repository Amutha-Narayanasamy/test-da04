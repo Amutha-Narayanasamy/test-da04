{
 "cells": [
  {
   "cell_type": "code",
   "execution_count": 1,
   "id": "b6de58c7-70bd-453c-b41c-d9c1a1fd8770",
   "metadata": {},
   "outputs": [],
   "source": [
    "import pandas as pd"
   ]
  },
  {
   "cell_type": "markdown",
   "id": "4193e854-ffaf-463e-a258-6ffaf479bb79",
   "metadata": {},
   "source": [
    "### What is the most popular month for start time? - New_york_City\r\n"
   ]
  },
  {
   "cell_type": "code",
   "execution_count": 2,
   "id": "876790b1-67ac-4e5e-a05b-d8559f1dee79",
   "metadata": {},
   "outputs": [],
   "source": [
    "ny_data = pd.read_csv('RR-DPL-AU1 - new_york_city.csv')"
   ]
  },
  {
   "cell_type": "code",
   "execution_count": 3,
   "id": "a5c67093-3c57-4261-a847-db738dc55acd",
   "metadata": {},
   "outputs": [
    {
     "data": {
      "text/html": [
       "<div>\n",
       "<style scoped>\n",
       "    .dataframe tbody tr th:only-of-type {\n",
       "        vertical-align: middle;\n",
       "    }\n",
       "\n",
       "    .dataframe tbody tr th {\n",
       "        vertical-align: top;\n",
       "    }\n",
       "\n",
       "    .dataframe thead th {\n",
       "        text-align: right;\n",
       "    }\n",
       "</style>\n",
       "<table border=\"1\" class=\"dataframe\">\n",
       "  <thead>\n",
       "    <tr style=\"text-align: right;\">\n",
       "      <th></th>\n",
       "      <th>Start Time</th>\n",
       "      <th>End Time</th>\n",
       "      <th>Trip Duration</th>\n",
       "      <th>Start Station</th>\n",
       "      <th>End Station</th>\n",
       "      <th>User Type</th>\n",
       "      <th>Gender</th>\n",
       "      <th>Birth Year</th>\n",
       "    </tr>\n",
       "  </thead>\n",
       "  <tbody>\n",
       "    <tr>\n",
       "      <th>0</th>\n",
       "      <td>2017-01-01 00:00:21</td>\n",
       "      <td>2017-01-01 00:11:41</td>\n",
       "      <td>680</td>\n",
       "      <td>W 82 St &amp; Central Park West</td>\n",
       "      <td>Central Park West &amp; W 72 St</td>\n",
       "      <td>Subscriber</td>\n",
       "      <td>Female</td>\n",
       "      <td>1965.0</td>\n",
       "    </tr>\n",
       "    <tr>\n",
       "      <th>1</th>\n",
       "      <td>2017-01-01 00:00:45</td>\n",
       "      <td>2017-01-01 00:22:08</td>\n",
       "      <td>1282</td>\n",
       "      <td>Cooper Square &amp; E 7 St</td>\n",
       "      <td>Broadway &amp; W 32 St</td>\n",
       "      <td>Subscriber</td>\n",
       "      <td>Female</td>\n",
       "      <td>1987.0</td>\n",
       "    </tr>\n",
       "    <tr>\n",
       "      <th>2</th>\n",
       "      <td>2017-01-01 00:00:57</td>\n",
       "      <td>2017-01-01 00:11:46</td>\n",
       "      <td>648</td>\n",
       "      <td>5 Ave &amp; E 78 St</td>\n",
       "      <td>3 Ave &amp; E 71 St</td>\n",
       "      <td>Customer</td>\n",
       "      <td>NaN</td>\n",
       "      <td>NaN</td>\n",
       "    </tr>\n",
       "    <tr>\n",
       "      <th>3</th>\n",
       "      <td>2017-01-01 00:01:10</td>\n",
       "      <td>2017-01-01 00:11:42</td>\n",
       "      <td>631</td>\n",
       "      <td>5 Ave &amp; E 78 St</td>\n",
       "      <td>3 Ave &amp; E 71 St</td>\n",
       "      <td>Customer</td>\n",
       "      <td>NaN</td>\n",
       "      <td>NaN</td>\n",
       "    </tr>\n",
       "    <tr>\n",
       "      <th>4</th>\n",
       "      <td>2017-01-01 00:01:25</td>\n",
       "      <td>2017-01-01 00:11:47</td>\n",
       "      <td>621</td>\n",
       "      <td>5 Ave &amp; E 78 St</td>\n",
       "      <td>3 Ave &amp; E 71 St</td>\n",
       "      <td>Customer</td>\n",
       "      <td>NaN</td>\n",
       "      <td>NaN</td>\n",
       "    </tr>\n",
       "    <tr>\n",
       "      <th>...</th>\n",
       "      <td>...</td>\n",
       "      <td>...</td>\n",
       "      <td>...</td>\n",
       "      <td>...</td>\n",
       "      <td>...</td>\n",
       "      <td>...</td>\n",
       "      <td>...</td>\n",
       "      <td>...</td>\n",
       "    </tr>\n",
       "    <tr>\n",
       "      <th>6816249</th>\n",
       "      <td>2017-06-30 23:59:30</td>\n",
       "      <td>2017-07-01 00:06:05</td>\n",
       "      <td>394</td>\n",
       "      <td>Metropolitan Ave &amp; Bedford Ave</td>\n",
       "      <td>Bedford Ave &amp; Nassau Ave</td>\n",
       "      <td>Subscriber</td>\n",
       "      <td>Female</td>\n",
       "      <td>1986.0</td>\n",
       "    </tr>\n",
       "    <tr>\n",
       "      <th>6816250</th>\n",
       "      <td>2017-06-30 23:59:40</td>\n",
       "      <td>2017-07-01 00:19:12</td>\n",
       "      <td>1171</td>\n",
       "      <td>Liberty St &amp; Broadway</td>\n",
       "      <td>St Marks Pl &amp; 1 Ave</td>\n",
       "      <td>Subscriber</td>\n",
       "      <td>Male</td>\n",
       "      <td>1986.0</td>\n",
       "    </tr>\n",
       "    <tr>\n",
       "      <th>6816251</th>\n",
       "      <td>2017-06-30 23:59:47</td>\n",
       "      <td>2017-07-01 00:20:59</td>\n",
       "      <td>1272</td>\n",
       "      <td>W 41 St &amp; 8 Ave</td>\n",
       "      <td>W 95 St &amp; Broadway</td>\n",
       "      <td>Subscriber</td>\n",
       "      <td>Male</td>\n",
       "      <td>1982.0</td>\n",
       "    </tr>\n",
       "    <tr>\n",
       "      <th>6816252</th>\n",
       "      <td>2017-06-30 23:59:45</td>\n",
       "      <td>2017-07-01 00:15:03</td>\n",
       "      <td>918</td>\n",
       "      <td>Watts St &amp; Greenwich St</td>\n",
       "      <td>Hudson St &amp; Reade St</td>\n",
       "      <td>Subscriber</td>\n",
       "      <td>Male</td>\n",
       "      <td>1998.0</td>\n",
       "    </tr>\n",
       "    <tr>\n",
       "      <th>6816253</th>\n",
       "      <td>2017-06-30 23:59:53</td>\n",
       "      <td>2017-07-01 00:23:12</td>\n",
       "      <td>1398</td>\n",
       "      <td>University Pl &amp; E 8 St</td>\n",
       "      <td>South End Ave &amp; Liberty St</td>\n",
       "      <td>Subscriber</td>\n",
       "      <td>Female</td>\n",
       "      <td>1987.0</td>\n",
       "    </tr>\n",
       "  </tbody>\n",
       "</table>\n",
       "<p>6816254 rows × 8 columns</p>\n",
       "</div>"
      ],
      "text/plain": [
       "                  Start Time             End Time  Trip Duration  \\\n",
       "0        2017-01-01 00:00:21  2017-01-01 00:11:41            680   \n",
       "1        2017-01-01 00:00:45  2017-01-01 00:22:08           1282   \n",
       "2        2017-01-01 00:00:57  2017-01-01 00:11:46            648   \n",
       "3        2017-01-01 00:01:10  2017-01-01 00:11:42            631   \n",
       "4        2017-01-01 00:01:25  2017-01-01 00:11:47            621   \n",
       "...                      ...                  ...            ...   \n",
       "6816249  2017-06-30 23:59:30  2017-07-01 00:06:05            394   \n",
       "6816250  2017-06-30 23:59:40  2017-07-01 00:19:12           1171   \n",
       "6816251  2017-06-30 23:59:47  2017-07-01 00:20:59           1272   \n",
       "6816252  2017-06-30 23:59:45  2017-07-01 00:15:03            918   \n",
       "6816253  2017-06-30 23:59:53  2017-07-01 00:23:12           1398   \n",
       "\n",
       "                          Start Station                  End Station  \\\n",
       "0           W 82 St & Central Park West  Central Park West & W 72 St   \n",
       "1                Cooper Square & E 7 St           Broadway & W 32 St   \n",
       "2                       5 Ave & E 78 St              3 Ave & E 71 St   \n",
       "3                       5 Ave & E 78 St              3 Ave & E 71 St   \n",
       "4                       5 Ave & E 78 St              3 Ave & E 71 St   \n",
       "...                                 ...                          ...   \n",
       "6816249  Metropolitan Ave & Bedford Ave     Bedford Ave & Nassau Ave   \n",
       "6816250           Liberty St & Broadway          St Marks Pl & 1 Ave   \n",
       "6816251                 W 41 St & 8 Ave           W 95 St & Broadway   \n",
       "6816252         Watts St & Greenwich St         Hudson St & Reade St   \n",
       "6816253          University Pl & E 8 St   South End Ave & Liberty St   \n",
       "\n",
       "          User Type  Gender  Birth Year  \n",
       "0        Subscriber  Female      1965.0  \n",
       "1        Subscriber  Female      1987.0  \n",
       "2          Customer     NaN         NaN  \n",
       "3          Customer     NaN         NaN  \n",
       "4          Customer     NaN         NaN  \n",
       "...             ...     ...         ...  \n",
       "6816249  Subscriber  Female      1986.0  \n",
       "6816250  Subscriber    Male      1986.0  \n",
       "6816251  Subscriber    Male      1982.0  \n",
       "6816252  Subscriber    Male      1998.0  \n",
       "6816253  Subscriber  Female      1987.0  \n",
       "\n",
       "[6816254 rows x 8 columns]"
      ]
     },
     "execution_count": 3,
     "metadata": {},
     "output_type": "execute_result"
    }
   ],
   "source": [
    "ny_data"
   ]
  },
  {
   "cell_type": "code",
   "execution_count": 4,
   "id": "dbc4bae6-d9fb-4684-8c2f-b76a51bc487e",
   "metadata": {},
   "outputs": [],
   "source": [
    "## converting Start Time into date time format using to_datetime"
   ]
  },
  {
   "cell_type": "code",
   "execution_count": 5,
   "id": "7192d9f7-e981-497b-bb7f-d2cc7e4a0036",
   "metadata": {},
   "outputs": [],
   "source": [
    "ny_data['Start Time'] = pd.to_datetime(ny_data['Start Time'])"
   ]
  },
  {
   "cell_type": "code",
   "execution_count": 6,
   "id": "dd6b28a9-aee5-423f-b1a8-01b79003de5a",
   "metadata": {},
   "outputs": [
    {
     "data": {
      "text/plain": [
       "0         2017-01-01 00:00:21\n",
       "1         2017-01-01 00:00:45\n",
       "2         2017-01-01 00:00:57\n",
       "3         2017-01-01 00:01:10\n",
       "4         2017-01-01 00:01:25\n",
       "                  ...        \n",
       "6816249   2017-06-30 23:59:30\n",
       "6816250   2017-06-30 23:59:40\n",
       "6816251   2017-06-30 23:59:47\n",
       "6816252   2017-06-30 23:59:45\n",
       "6816253   2017-06-30 23:59:53\n",
       "Name: Start Time, Length: 6816254, dtype: datetime64[ns]"
      ]
     },
     "execution_count": 6,
     "metadata": {},
     "output_type": "execute_result"
    }
   ],
   "source": [
    "ny_data['Start Time']"
   ]
  },
  {
   "cell_type": "code",
   "execution_count": 7,
   "id": "d04f7a41-5e23-4039-b30a-831695ba2401",
   "metadata": {},
   "outputs": [],
   "source": [
    "# Extracting the month from Start time using the function dt.month"
   ]
  },
  {
   "cell_type": "code",
   "execution_count": 8,
   "id": "0acb5435-4c4f-45d2-9f0c-abbab1ce3db7",
   "metadata": {},
   "outputs": [],
   "source": [
    "ny_data['Start Month']= ny_data['Start Time'].dt.month"
   ]
  },
  {
   "cell_type": "code",
   "execution_count": 9,
   "id": "0123066b-e6d9-4ec2-a396-c7bfc3071f9e",
   "metadata": {},
   "outputs": [
    {
     "data": {
      "text/plain": [
       "0          1\n",
       "1          1\n",
       "2          1\n",
       "3          1\n",
       "4          1\n",
       "          ..\n",
       "6816249    6\n",
       "6816250    6\n",
       "6816251    6\n",
       "6816252    6\n",
       "6816253    6\n",
       "Name: Start Month, Length: 6816254, dtype: int32"
      ]
     },
     "execution_count": 9,
     "metadata": {},
     "output_type": "execute_result"
    }
   ],
   "source": [
    "ny_data['Start Month']"
   ]
  },
  {
   "cell_type": "code",
   "execution_count": 10,
   "id": "4726d739-ca0b-4bf5-aa8b-2c58754fa88b",
   "metadata": {},
   "outputs": [
    {
     "data": {
      "text/plain": [
       "count    6.816254e+06\n",
       "mean     4.072689e+00\n",
       "std      1.662874e+00\n",
       "min      1.000000e+00\n",
       "25%      3.000000e+00\n",
       "50%      4.000000e+00\n",
       "75%      6.000000e+00\n",
       "max      6.000000e+00\n",
       "Name: Start Month, dtype: float64"
      ]
     },
     "execution_count": 10,
     "metadata": {},
     "output_type": "execute_result"
    }
   ],
   "source": [
    "ny_data['Start Month'].describe()"
   ]
  },
  {
   "cell_type": "code",
   "execution_count": 11,
   "id": "80c76859-4d39-4e42-ad92-31bf7b1b1124",
   "metadata": {},
   "outputs": [],
   "source": [
    "## using value_counts() to return counts of the uqique values which occured most frequently in start station and idxmax() returns the row label of maximum value\n",
    "## why i used value_counts().idxmax() function instead of max() is to find the most popular value. if I use max() function I only get the maximum value of column which I selected."
   ]
  },
  {
   "cell_type": "code",
   "execution_count": 12,
   "id": "0bf78322-749a-4d83-920b-deb7f9746a59",
   "metadata": {},
   "outputs": [
    {
     "data": {
      "text/plain": [
       "'June'"
      ]
     },
     "execution_count": 12,
     "metadata": {},
     "output_type": "execute_result"
    }
   ],
   "source": [
    "popular_month = ny_data['Start Month'].value_counts().idxmax()\n",
    "months_name = {1: \"January\", 2: \"February\", 3:\"March\", \n",
    "               4:\"April\", 5:\"May\", 6:\"June\", 7:\"July\", \n",
    "               8:\"August\", 9:\"September\", 10:\"October\", \n",
    "               11:\"November\", 12:\"December\"}\n",
    "popular_month = months_name[popular_month]\n",
    "popular_month"
   ]
  },
  {
   "cell_type": "markdown",
   "id": "55103d98-7c3f-4b4c-b53f-c5c678dd6f37",
   "metadata": {},
   "source": [
    "### What is the most popular month for start time? Chicago"
   ]
  },
  {
   "cell_type": "code",
   "execution_count": 13,
   "id": "fbce3b0a-48ec-46c3-8f24-334418f58015",
   "metadata": {},
   "outputs": [],
   "source": [
    "c_data = pd.read_csv('RR-DPL-UA1 - chicago.csv')"
   ]
  },
  {
   "cell_type": "code",
   "execution_count": 14,
   "id": "1c8fe545-81fb-45d8-8429-ab300b80d229",
   "metadata": {},
   "outputs": [
    {
     "data": {
      "text/html": [
       "<div>\n",
       "<style scoped>\n",
       "    .dataframe tbody tr th:only-of-type {\n",
       "        vertical-align: middle;\n",
       "    }\n",
       "\n",
       "    .dataframe tbody tr th {\n",
       "        vertical-align: top;\n",
       "    }\n",
       "\n",
       "    .dataframe thead th {\n",
       "        text-align: right;\n",
       "    }\n",
       "</style>\n",
       "<table border=\"1\" class=\"dataframe\">\n",
       "  <thead>\n",
       "    <tr style=\"text-align: right;\">\n",
       "      <th></th>\n",
       "      <th>Start Time</th>\n",
       "      <th>End Time</th>\n",
       "      <th>Trip Duration</th>\n",
       "      <th>Start Station</th>\n",
       "      <th>End Station</th>\n",
       "      <th>User Type</th>\n",
       "      <th>Gender</th>\n",
       "      <th>Birth Year</th>\n",
       "    </tr>\n",
       "  </thead>\n",
       "  <tbody>\n",
       "    <tr>\n",
       "      <th>0</th>\n",
       "      <td>2017-01-01 00:00:36</td>\n",
       "      <td>2017-01-01 00:06:32</td>\n",
       "      <td>356</td>\n",
       "      <td>Canal St &amp; Taylor St</td>\n",
       "      <td>Canal St &amp; Monroe St (*)</td>\n",
       "      <td>Customer</td>\n",
       "      <td>NaN</td>\n",
       "      <td>NaN</td>\n",
       "    </tr>\n",
       "    <tr>\n",
       "      <th>1</th>\n",
       "      <td>2017-01-01 00:02:54</td>\n",
       "      <td>2017-01-01 00:08:21</td>\n",
       "      <td>327</td>\n",
       "      <td>Larrabee St &amp; Menomonee St</td>\n",
       "      <td>Sheffield Ave &amp; Kingsbury St</td>\n",
       "      <td>Subscriber</td>\n",
       "      <td>Male</td>\n",
       "      <td>1984.0</td>\n",
       "    </tr>\n",
       "    <tr>\n",
       "      <th>2</th>\n",
       "      <td>2017-01-01 00:06:06</td>\n",
       "      <td>2017-01-01 00:18:31</td>\n",
       "      <td>745</td>\n",
       "      <td>Orleans St &amp; Chestnut St (NEXT Apts)</td>\n",
       "      <td>Ashland Ave &amp; Blackhawk St</td>\n",
       "      <td>Subscriber</td>\n",
       "      <td>Male</td>\n",
       "      <td>1985.0</td>\n",
       "    </tr>\n",
       "    <tr>\n",
       "      <th>3</th>\n",
       "      <td>2017-01-01 00:07:28</td>\n",
       "      <td>2017-01-01 00:12:51</td>\n",
       "      <td>323</td>\n",
       "      <td>Franklin St &amp; Monroe St</td>\n",
       "      <td>Clinton St &amp; Tilden St</td>\n",
       "      <td>Subscriber</td>\n",
       "      <td>Male</td>\n",
       "      <td>1990.0</td>\n",
       "    </tr>\n",
       "    <tr>\n",
       "      <th>4</th>\n",
       "      <td>2017-01-01 00:07:57</td>\n",
       "      <td>2017-01-01 00:20:53</td>\n",
       "      <td>776</td>\n",
       "      <td>Broadway &amp; Barry Ave</td>\n",
       "      <td>Sedgwick St &amp; North Ave</td>\n",
       "      <td>Subscriber</td>\n",
       "      <td>Male</td>\n",
       "      <td>1990.0</td>\n",
       "    </tr>\n",
       "    <tr>\n",
       "      <th>...</th>\n",
       "      <td>...</td>\n",
       "      <td>...</td>\n",
       "      <td>...</td>\n",
       "      <td>...</td>\n",
       "      <td>...</td>\n",
       "      <td>...</td>\n",
       "      <td>...</td>\n",
       "      <td>...</td>\n",
       "    </tr>\n",
       "    <tr>\n",
       "      <th>1551500</th>\n",
       "      <td>2017-06-30 23:59:01</td>\n",
       "      <td>2017-07-01 00:08:41</td>\n",
       "      <td>580</td>\n",
       "      <td>Damen Ave &amp; Division St</td>\n",
       "      <td>Halsted St &amp; Blackhawk St (*)</td>\n",
       "      <td>Subscriber</td>\n",
       "      <td>Male</td>\n",
       "      <td>1990.0</td>\n",
       "    </tr>\n",
       "    <tr>\n",
       "      <th>1551501</th>\n",
       "      <td>2017-06-30 23:59:14</td>\n",
       "      <td>2017-07-01 00:06:21</td>\n",
       "      <td>427</td>\n",
       "      <td>Canal St &amp; Adams St</td>\n",
       "      <td>LaSalle St &amp; Adams St</td>\n",
       "      <td>Subscriber</td>\n",
       "      <td>Male</td>\n",
       "      <td>1980.0</td>\n",
       "    </tr>\n",
       "    <tr>\n",
       "      <th>1551502</th>\n",
       "      <td>2017-06-30 23:59:18</td>\n",
       "      <td>2017-07-01 00:04:58</td>\n",
       "      <td>340</td>\n",
       "      <td>Sheffield Ave &amp; Webster Ave</td>\n",
       "      <td>Sheffield Ave &amp; Webster Ave</td>\n",
       "      <td>Subscriber</td>\n",
       "      <td>Female</td>\n",
       "      <td>1996.0</td>\n",
       "    </tr>\n",
       "    <tr>\n",
       "      <th>1551503</th>\n",
       "      <td>2017-06-30 23:59:28</td>\n",
       "      <td>2017-07-01 00:07:10</td>\n",
       "      <td>462</td>\n",
       "      <td>Clark St &amp; Grace St</td>\n",
       "      <td>Clark St &amp; Montrose Ave</td>\n",
       "      <td>Subscriber</td>\n",
       "      <td>Female</td>\n",
       "      <td>1968.0</td>\n",
       "    </tr>\n",
       "    <tr>\n",
       "      <th>1551504</th>\n",
       "      <td>2017-06-30 23:59:51</td>\n",
       "      <td>2017-07-01 00:13:57</td>\n",
       "      <td>846</td>\n",
       "      <td>Desplaines St &amp; Jackson Blvd</td>\n",
       "      <td>Desplaines St &amp; Kinzie St</td>\n",
       "      <td>Subscriber</td>\n",
       "      <td>Male</td>\n",
       "      <td>1975.0</td>\n",
       "    </tr>\n",
       "  </tbody>\n",
       "</table>\n",
       "<p>1551505 rows × 8 columns</p>\n",
       "</div>"
      ],
      "text/plain": [
       "                  Start Time             End Time  Trip Duration  \\\n",
       "0        2017-01-01 00:00:36  2017-01-01 00:06:32            356   \n",
       "1        2017-01-01 00:02:54  2017-01-01 00:08:21            327   \n",
       "2        2017-01-01 00:06:06  2017-01-01 00:18:31            745   \n",
       "3        2017-01-01 00:07:28  2017-01-01 00:12:51            323   \n",
       "4        2017-01-01 00:07:57  2017-01-01 00:20:53            776   \n",
       "...                      ...                  ...            ...   \n",
       "1551500  2017-06-30 23:59:01  2017-07-01 00:08:41            580   \n",
       "1551501  2017-06-30 23:59:14  2017-07-01 00:06:21            427   \n",
       "1551502  2017-06-30 23:59:18  2017-07-01 00:04:58            340   \n",
       "1551503  2017-06-30 23:59:28  2017-07-01 00:07:10            462   \n",
       "1551504  2017-06-30 23:59:51  2017-07-01 00:13:57            846   \n",
       "\n",
       "                                Start Station                    End Station  \\\n",
       "0                        Canal St & Taylor St       Canal St & Monroe St (*)   \n",
       "1                  Larrabee St & Menomonee St   Sheffield Ave & Kingsbury St   \n",
       "2        Orleans St & Chestnut St (NEXT Apts)     Ashland Ave & Blackhawk St   \n",
       "3                     Franklin St & Monroe St         Clinton St & Tilden St   \n",
       "4                        Broadway & Barry Ave        Sedgwick St & North Ave   \n",
       "...                                       ...                            ...   \n",
       "1551500               Damen Ave & Division St  Halsted St & Blackhawk St (*)   \n",
       "1551501                   Canal St & Adams St          LaSalle St & Adams St   \n",
       "1551502           Sheffield Ave & Webster Ave    Sheffield Ave & Webster Ave   \n",
       "1551503                   Clark St & Grace St        Clark St & Montrose Ave   \n",
       "1551504          Desplaines St & Jackson Blvd      Desplaines St & Kinzie St   \n",
       "\n",
       "          User Type  Gender  Birth Year  \n",
       "0          Customer     NaN         NaN  \n",
       "1        Subscriber    Male      1984.0  \n",
       "2        Subscriber    Male      1985.0  \n",
       "3        Subscriber    Male      1990.0  \n",
       "4        Subscriber    Male      1990.0  \n",
       "...             ...     ...         ...  \n",
       "1551500  Subscriber    Male      1990.0  \n",
       "1551501  Subscriber    Male      1980.0  \n",
       "1551502  Subscriber  Female      1996.0  \n",
       "1551503  Subscriber  Female      1968.0  \n",
       "1551504  Subscriber    Male      1975.0  \n",
       "\n",
       "[1551505 rows x 8 columns]"
      ]
     },
     "execution_count": 14,
     "metadata": {},
     "output_type": "execute_result"
    }
   ],
   "source": [
    "c_data"
   ]
  },
  {
   "cell_type": "code",
   "execution_count": 15,
   "id": "a4939fc0-e554-44fb-8115-1746483d57b6",
   "metadata": {},
   "outputs": [],
   "source": [
    "## converting Start Time into date time format using to_datatime"
   ]
  },
  {
   "cell_type": "code",
   "execution_count": 16,
   "id": "45cc937d-7837-476c-b133-d8a35128695a",
   "metadata": {},
   "outputs": [],
   "source": [
    "c_data['Start Time'] = pd.to_datetime(c_data['Start Time'])"
   ]
  },
  {
   "cell_type": "code",
   "execution_count": 17,
   "id": "20960cbb-0030-4f0f-a830-d31c96edeae2",
   "metadata": {},
   "outputs": [
    {
     "data": {
      "text/plain": [
       "0         2017-01-01 00:00:36\n",
       "1         2017-01-01 00:02:54\n",
       "2         2017-01-01 00:06:06\n",
       "3         2017-01-01 00:07:28\n",
       "4         2017-01-01 00:07:57\n",
       "                  ...        \n",
       "1551500   2017-06-30 23:59:01\n",
       "1551501   2017-06-30 23:59:14\n",
       "1551502   2017-06-30 23:59:18\n",
       "1551503   2017-06-30 23:59:28\n",
       "1551504   2017-06-30 23:59:51\n",
       "Name: Start Time, Length: 1551505, dtype: datetime64[ns]"
      ]
     },
     "execution_count": 17,
     "metadata": {},
     "output_type": "execute_result"
    }
   ],
   "source": [
    "c_data['Start Time']"
   ]
  },
  {
   "cell_type": "code",
   "execution_count": 18,
   "id": "336a887b-3f9a-4b95-a099-842e16d90908",
   "metadata": {},
   "outputs": [],
   "source": [
    "# Extracting the month from Start time using the function dt.month"
   ]
  },
  {
   "cell_type": "code",
   "execution_count": 19,
   "id": "2299da2e-bccb-4adc-9143-72dc157549fb",
   "metadata": {},
   "outputs": [],
   "source": [
    "c_data['Start Month']= c_data['Start Time'].dt.month"
   ]
  },
  {
   "cell_type": "code",
   "execution_count": 20,
   "id": "3bb27df3-d02c-4791-aea4-fad060f3b8ca",
   "metadata": {},
   "outputs": [
    {
     "data": {
      "text/plain": [
       "0          1\n",
       "1          1\n",
       "2          1\n",
       "3          1\n",
       "4          1\n",
       "          ..\n",
       "1551500    6\n",
       "1551501    6\n",
       "1551502    6\n",
       "1551503    6\n",
       "1551504    6\n",
       "Name: Start Month, Length: 1551505, dtype: int32"
      ]
     },
     "execution_count": 20,
     "metadata": {},
     "output_type": "execute_result"
    }
   ],
   "source": [
    "c_data['Start Month']"
   ]
  },
  {
   "cell_type": "code",
   "execution_count": 21,
   "id": "2478be09-4027-4d97-8866-bf523e2c114e",
   "metadata": {},
   "outputs": [
    {
     "data": {
      "text/plain": [
       "count    1.551505e+06\n",
       "mean     4.344438e+00\n",
       "std      1.607432e+00\n",
       "min      1.000000e+00\n",
       "25%      3.000000e+00\n",
       "50%      5.000000e+00\n",
       "75%      6.000000e+00\n",
       "max      6.000000e+00\n",
       "Name: Start Month, dtype: float64"
      ]
     },
     "execution_count": 21,
     "metadata": {},
     "output_type": "execute_result"
    }
   ],
   "source": [
    "c_data['Start Month'].describe()"
   ]
  },
  {
   "cell_type": "code",
   "execution_count": 22,
   "id": "5460d857-3779-4cfa-b32e-2e23250ab6e1",
   "metadata": {},
   "outputs": [],
   "source": [
    "## using value_counts() to return counts of the uqique values which occured most frequently in start station and idxmax() returns the row label of maximum value\n",
    "## why i used value_counts().idxmax() function instead of max() is to find the most popular value. if I use max() function I only get the maximum value of column which I selected."
   ]
  },
  {
   "cell_type": "code",
   "execution_count": 23,
   "id": "5546eaa5-aa6b-4ba2-b24e-185571a402c2",
   "metadata": {},
   "outputs": [
    {
     "data": {
      "text/plain": [
       "'June'"
      ]
     },
     "execution_count": 23,
     "metadata": {},
     "output_type": "execute_result"
    }
   ],
   "source": [
    "popular_month = c_data['Start Month'].value_counts().idxmax()\n",
    "months_name = {1: \"January\", 2: \"February\", 3:\"March\", \n",
    "               4:\"April\", 5:\"May\", 6:\"June\", 7:\"July\", \n",
    "               8:\"August\", 9:\"September\", 10:\"October\", \n",
    "               11:\"November\", 12:\"December\"}\n",
    "popular_month = months_name[popular_month]\n",
    "popular_month"
   ]
  },
  {
   "cell_type": "markdown",
   "id": "96cfa3c4-ccd4-4a0a-b232-6c23275e1748",
   "metadata": {},
   "source": [
    "### What is the most popular month for start time? Washington"
   ]
  },
  {
   "cell_type": "code",
   "execution_count": 24,
   "id": "ad00d9c0-cc52-4892-8967-2025bfa1f0f5",
   "metadata": {},
   "outputs": [],
   "source": [
    "w_data = pd.read_csv('RR-DPL-AU1 - washington.csv')"
   ]
  },
  {
   "cell_type": "code",
   "execution_count": 25,
   "id": "a5070989-312f-4564-aab0-d1262e197cc9",
   "metadata": {},
   "outputs": [
    {
     "data": {
      "text/html": [
       "<div>\n",
       "<style scoped>\n",
       "    .dataframe tbody tr th:only-of-type {\n",
       "        vertical-align: middle;\n",
       "    }\n",
       "\n",
       "    .dataframe tbody tr th {\n",
       "        vertical-align: top;\n",
       "    }\n",
       "\n",
       "    .dataframe thead th {\n",
       "        text-align: right;\n",
       "    }\n",
       "</style>\n",
       "<table border=\"1\" class=\"dataframe\">\n",
       "  <thead>\n",
       "    <tr style=\"text-align: right;\">\n",
       "      <th></th>\n",
       "      <th>Start Time</th>\n",
       "      <th>End Time</th>\n",
       "      <th>Trip Duration</th>\n",
       "      <th>Start Station</th>\n",
       "      <th>End Station</th>\n",
       "      <th>User Type</th>\n",
       "    </tr>\n",
       "  </thead>\n",
       "  <tbody>\n",
       "    <tr>\n",
       "      <th>0</th>\n",
       "      <td>2017-01-01 00:00:00</td>\n",
       "      <td>2017-01-01 00:04:00</td>\n",
       "      <td>221.834</td>\n",
       "      <td>3rd &amp; Tingey St SE</td>\n",
       "      <td>M St &amp; New Jersey Ave SE</td>\n",
       "      <td>Subscriber</td>\n",
       "    </tr>\n",
       "    <tr>\n",
       "      <th>1</th>\n",
       "      <td>2017-01-01 00:06:00</td>\n",
       "      <td>2017-01-01 00:34:00</td>\n",
       "      <td>1676.854</td>\n",
       "      <td>Lincoln Memorial</td>\n",
       "      <td>8th &amp; D St NW</td>\n",
       "      <td>Customer</td>\n",
       "    </tr>\n",
       "    <tr>\n",
       "      <th>2</th>\n",
       "      <td>2017-01-01 00:07:00</td>\n",
       "      <td>2017-01-01 00:34:00</td>\n",
       "      <td>1636.768</td>\n",
       "      <td>Lincoln Memorial</td>\n",
       "      <td>8th &amp; D St NW</td>\n",
       "      <td>Customer</td>\n",
       "    </tr>\n",
       "    <tr>\n",
       "      <th>3</th>\n",
       "      <td>2017-01-01 00:07:00</td>\n",
       "      <td>2017-01-01 00:29:00</td>\n",
       "      <td>1327.901</td>\n",
       "      <td>Henry Bacon Dr &amp; Lincoln Memorial Circle NW</td>\n",
       "      <td>New York Ave &amp; 15th St NW</td>\n",
       "      <td>Customer</td>\n",
       "    </tr>\n",
       "    <tr>\n",
       "      <th>4</th>\n",
       "      <td>2017-01-01 00:07:00</td>\n",
       "      <td>2017-01-01 00:29:00</td>\n",
       "      <td>1356.956</td>\n",
       "      <td>Henry Bacon Dr &amp; Lincoln Memorial Circle NW</td>\n",
       "      <td>New York Ave &amp; 15th St NW</td>\n",
       "      <td>Customer</td>\n",
       "    </tr>\n",
       "    <tr>\n",
       "      <th>...</th>\n",
       "      <td>...</td>\n",
       "      <td>...</td>\n",
       "      <td>...</td>\n",
       "      <td>...</td>\n",
       "      <td>...</td>\n",
       "      <td>...</td>\n",
       "    </tr>\n",
       "    <tr>\n",
       "      <th>409596</th>\n",
       "      <td>2017-03-01 21:11:00</td>\n",
       "      <td>2017-03-01 21:41:00</td>\n",
       "      <td>1772.589</td>\n",
       "      <td>23rd &amp; Crystal Dr</td>\n",
       "      <td>23rd &amp; Crystal Dr</td>\n",
       "      <td>Customer</td>\n",
       "    </tr>\n",
       "    <tr>\n",
       "      <th>409597</th>\n",
       "      <td>2017-03-01 21:11:00</td>\n",
       "      <td>2017-03-01 21:24:00</td>\n",
       "      <td>787.499</td>\n",
       "      <td>Washington Blvd &amp; 7th St N</td>\n",
       "      <td>Lynn &amp; 19th St North</td>\n",
       "      <td>Customer</td>\n",
       "    </tr>\n",
       "    <tr>\n",
       "      <th>409598</th>\n",
       "      <td>2017-03-01 21:12:00</td>\n",
       "      <td>2017-03-01 21:28:00</td>\n",
       "      <td>954.615</td>\n",
       "      <td>37th &amp; O St NW / Georgetown University</td>\n",
       "      <td>California St &amp; Florida Ave NW</td>\n",
       "      <td>Subscriber</td>\n",
       "    </tr>\n",
       "    <tr>\n",
       "      <th>409599</th>\n",
       "      <td>2017-03-01 21:12:00</td>\n",
       "      <td>2017-03-01 21:29:00</td>\n",
       "      <td>988.696</td>\n",
       "      <td>19th St &amp; Pennsylvania Ave NW</td>\n",
       "      <td>6th &amp; K St NE</td>\n",
       "      <td>Subscriber</td>\n",
       "    </tr>\n",
       "    <tr>\n",
       "      <th>409600</th>\n",
       "      <td>2017-03-</td>\n",
       "      <td>NaN</td>\n",
       "      <td>NaN</td>\n",
       "      <td>NaN</td>\n",
       "      <td>NaN</td>\n",
       "      <td>NaN</td>\n",
       "    </tr>\n",
       "  </tbody>\n",
       "</table>\n",
       "<p>409601 rows × 6 columns</p>\n",
       "</div>"
      ],
      "text/plain": [
       "                 Start Time             End Time  Trip Duration  \\\n",
       "0       2017-01-01 00:00:00  2017-01-01 00:04:00        221.834   \n",
       "1       2017-01-01 00:06:00  2017-01-01 00:34:00       1676.854   \n",
       "2       2017-01-01 00:07:00  2017-01-01 00:34:00       1636.768   \n",
       "3       2017-01-01 00:07:00  2017-01-01 00:29:00       1327.901   \n",
       "4       2017-01-01 00:07:00  2017-01-01 00:29:00       1356.956   \n",
       "...                     ...                  ...            ...   \n",
       "409596  2017-03-01 21:11:00  2017-03-01 21:41:00       1772.589   \n",
       "409597  2017-03-01 21:11:00  2017-03-01 21:24:00        787.499   \n",
       "409598  2017-03-01 21:12:00  2017-03-01 21:28:00        954.615   \n",
       "409599  2017-03-01 21:12:00  2017-03-01 21:29:00        988.696   \n",
       "409600             2017-03-                  NaN            NaN   \n",
       "\n",
       "                                      Start Station  \\\n",
       "0                                3rd & Tingey St SE   \n",
       "1                                  Lincoln Memorial   \n",
       "2                                  Lincoln Memorial   \n",
       "3       Henry Bacon Dr & Lincoln Memorial Circle NW   \n",
       "4       Henry Bacon Dr & Lincoln Memorial Circle NW   \n",
       "...                                             ...   \n",
       "409596                            23rd & Crystal Dr   \n",
       "409597                   Washington Blvd & 7th St N   \n",
       "409598       37th & O St NW / Georgetown University   \n",
       "409599                19th St & Pennsylvania Ave NW   \n",
       "409600                                          NaN   \n",
       "\n",
       "                           End Station   User Type  \n",
       "0             M St & New Jersey Ave SE  Subscriber  \n",
       "1                        8th & D St NW    Customer  \n",
       "2                        8th & D St NW    Customer  \n",
       "3            New York Ave & 15th St NW    Customer  \n",
       "4            New York Ave & 15th St NW    Customer  \n",
       "...                                ...         ...  \n",
       "409596               23rd & Crystal Dr    Customer  \n",
       "409597            Lynn & 19th St North    Customer  \n",
       "409598  California St & Florida Ave NW  Subscriber  \n",
       "409599                   6th & K St NE  Subscriber  \n",
       "409600                             NaN         NaN  \n",
       "\n",
       "[409601 rows x 6 columns]"
      ]
     },
     "execution_count": 25,
     "metadata": {},
     "output_type": "execute_result"
    }
   ],
   "source": [
    "w_data"
   ]
  },
  {
   "cell_type": "code",
   "execution_count": 26,
   "id": "9866699b-ca5b-4ab6-bbd4-2ce9897b41e7",
   "metadata": {},
   "outputs": [],
   "source": [
    "## converting Start Time into date time format and replacing invalid Start time values by assigning errors=coerce"
   ]
  },
  {
   "cell_type": "code",
   "execution_count": 27,
   "id": "3c9a8fdf-7c96-44af-8777-259fd735de27",
   "metadata": {},
   "outputs": [
    {
     "data": {
      "text/plain": [
       "0        2017-01-01 00:00:00\n",
       "1        2017-01-01 00:06:00\n",
       "2        2017-01-01 00:07:00\n",
       "3        2017-01-01 00:07:00\n",
       "4        2017-01-01 00:07:00\n",
       "                 ...        \n",
       "409596   2017-03-01 21:11:00\n",
       "409597   2017-03-01 21:11:00\n",
       "409598   2017-03-01 21:12:00\n",
       "409599   2017-03-01 21:12:00\n",
       "409600                   NaT\n",
       "Name: Start Month, Length: 409601, dtype: datetime64[ns]"
      ]
     },
     "execution_count": 27,
     "metadata": {},
     "output_type": "execute_result"
    }
   ],
   "source": [
    "w_data['Start Month'] = pd.to_datetime(w_data['Start Time'], errors='coerce')\n",
    "w_data['Start Month']"
   ]
  },
  {
   "cell_type": "code",
   "execution_count": 28,
   "id": "f0a26a76-2feb-4f19-8e11-35725c07c108",
   "metadata": {},
   "outputs": [
    {
     "data": {
      "text/plain": [
       "count                           409600\n",
       "mean     2017-02-03 20:02:24.159814400\n",
       "min                2017-01-01 00:00:00\n",
       "25%                2017-01-20 16:26:45\n",
       "50%                2017-02-05 14:49:00\n",
       "75%                2017-02-19 11:44:00\n",
       "max                2017-03-01 21:12:00\n",
       "Name: Start Month, dtype: object"
      ]
     },
     "execution_count": 28,
     "metadata": {},
     "output_type": "execute_result"
    }
   ],
   "source": [
    "w_data['Start Month'].describe()"
   ]
  },
  {
   "cell_type": "code",
   "execution_count": 29,
   "id": "1bb16322-36a4-44d5-bcae-23c99488e3d3",
   "metadata": {},
   "outputs": [],
   "source": [
    "# Extracting the month from Start time using the function dt.month"
   ]
  },
  {
   "cell_type": "code",
   "execution_count": 30,
   "id": "e6ca389e-4e50-4018-b2d2-f54569c26d2d",
   "metadata": {},
   "outputs": [],
   "source": [
    "w_data['Start Month'] = w_data['Start Month'].dt.month"
   ]
  },
  {
   "cell_type": "code",
   "execution_count": 31,
   "id": "cc4af567-ece8-4fc3-92e1-23c3485a5c42",
   "metadata": {},
   "outputs": [
    {
     "data": {
      "text/plain": [
       "0         1.0\n",
       "1         1.0\n",
       "2         1.0\n",
       "3         1.0\n",
       "4         1.0\n",
       "         ... \n",
       "409596    3.0\n",
       "409597    3.0\n",
       "409598    3.0\n",
       "409599    3.0\n",
       "409600    NaN\n",
       "Name: Start Month, Length: 409601, dtype: float64"
      ]
     },
     "execution_count": 31,
     "metadata": {},
     "output_type": "execute_result"
    }
   ],
   "source": [
    "w_data['Start Month']"
   ]
  },
  {
   "cell_type": "code",
   "execution_count": 32,
   "id": "f1d3f9fa-7801-468b-9d19-e783d66a4cb2",
   "metadata": {},
   "outputs": [],
   "source": [
    "## using value_counts() to return counts of the uqique values which occured most frequently in start station and idxmax() returns the row label of maximum value\n",
    "## why i used value_counts().idxmax() function instead of max() is to find the most popular value. if I use max() function I only get the maximum value of column which I selected."
   ]
  },
  {
   "cell_type": "code",
   "execution_count": 33,
   "id": "277d710c-2f01-40d4-b178-b56c086711f6",
   "metadata": {},
   "outputs": [
    {
     "data": {
      "text/plain": [
       "'February'"
      ]
     },
     "execution_count": 33,
     "metadata": {},
     "output_type": "execute_result"
    }
   ],
   "source": [
    "popular_month = w_data['Start Month'].value_counts().idxmax()\n",
    "months_name = {1: \"January\", 2: \"February\", 3:\"March\", \n",
    "               4:\"April\", 5:\"May\", 6:\"June\", 7:\"July\", \n",
    "               8:\"August\", 9:\"September\", 10:\"October\", \n",
    "               11:\"November\", 12:\"December\"}\n",
    "popular_month = months_name[popular_month]\n",
    "popular_month"
   ]
  },
  {
   "cell_type": "markdown",
   "id": "3d6de123-78c8-4159-b007-d60607e70978",
   "metadata": {},
   "source": [
    "### 2.What is the most popular day of week (Monday, Tuesday, etc.) for start time? "
   ]
  },
  {
   "cell_type": "code",
   "execution_count": 34,
   "id": "74de4dea-ca84-4864-9317-871ce16530d6",
   "metadata": {},
   "outputs": [],
   "source": [
    "## finding the Most popular Day of New york city"
   ]
  },
  {
   "cell_type": "code",
   "execution_count": 35,
   "id": "96ce5863-b4c6-4a75-907e-8c1a52c30d14",
   "metadata": {},
   "outputs": [],
   "source": [
    "## converting Start Time into date time format and assigining to ny_data['Day']"
   ]
  },
  {
   "cell_type": "code",
   "execution_count": 36,
   "id": "c1fa04c3-61a2-46f1-b970-37551d69758d",
   "metadata": {},
   "outputs": [],
   "source": [
    "ny_data['Day'] = pd.to_datetime(ny_data['Start Time'])"
   ]
  },
  {
   "cell_type": "code",
   "execution_count": 37,
   "id": "a0008ffd-63be-4423-9137-3f607ee4c860",
   "metadata": {},
   "outputs": [
    {
     "data": {
      "text/plain": [
       "0         2017-01-01 00:00:21\n",
       "1         2017-01-01 00:00:45\n",
       "2         2017-01-01 00:00:57\n",
       "3         2017-01-01 00:01:10\n",
       "4         2017-01-01 00:01:25\n",
       "                  ...        \n",
       "6816249   2017-06-30 23:59:30\n",
       "6816250   2017-06-30 23:59:40\n",
       "6816251   2017-06-30 23:59:47\n",
       "6816252   2017-06-30 23:59:45\n",
       "6816253   2017-06-30 23:59:53\n",
       "Name: Day, Length: 6816254, dtype: datetime64[ns]"
      ]
     },
     "execution_count": 37,
     "metadata": {},
     "output_type": "execute_result"
    }
   ],
   "source": [
    "ny_data['Day']"
   ]
  },
  {
   "cell_type": "code",
   "execution_count": 38,
   "id": "1e290609-86ec-4df7-ae81-ddc26aaea81e",
   "metadata": {},
   "outputs": [
    {
     "data": {
      "text/plain": [
       "count                          6816254\n",
       "mean     2017-04-19 00:07:47.256399616\n",
       "min                2017-01-01 00:00:21\n",
       "25%         2017-03-07 16:19:47.500000\n",
       "50%         2017-04-28 08:48:23.500000\n",
       "75%                2017-06-01 13:33:36\n",
       "max                2017-06-30 23:59:53\n",
       "Name: Day, dtype: object"
      ]
     },
     "execution_count": 38,
     "metadata": {},
     "output_type": "execute_result"
    }
   ],
   "source": [
    "ny_data['Day'].describe()"
   ]
  },
  {
   "cell_type": "code",
   "execution_count": 39,
   "id": "1bffcd37-bf8b-468a-96f9-58f329ac5350",
   "metadata": {},
   "outputs": [],
   "source": [
    "# Extracting the day from Start time using the function dt.dayofweek "
   ]
  },
  {
   "cell_type": "code",
   "execution_count": 40,
   "id": "deac4f94-a336-423a-b332-650844ecacd8",
   "metadata": {},
   "outputs": [],
   "source": [
    "ny_data['popular_Day'] = ny_data['Day'].dt.dayofweek"
   ]
  },
  {
   "cell_type": "code",
   "execution_count": 41,
   "id": "8e97b39c-67e1-4079-a139-f83da75f513a",
   "metadata": {},
   "outputs": [
    {
     "data": {
      "text/plain": [
       "0          6\n",
       "1          6\n",
       "2          6\n",
       "3          6\n",
       "4          6\n",
       "          ..\n",
       "6816249    4\n",
       "6816250    4\n",
       "6816251    4\n",
       "6816252    4\n",
       "6816253    4\n",
       "Name: popular_Day, Length: 6816254, dtype: int32"
      ]
     },
     "execution_count": 41,
     "metadata": {},
     "output_type": "execute_result"
    }
   ],
   "source": [
    "ny_data['popular_Day']"
   ]
  },
  {
   "cell_type": "code",
   "execution_count": 42,
   "id": "5dac9ec3-ac20-468e-8ffe-333f5b351b0d",
   "metadata": {},
   "outputs": [],
   "source": [
    "## Result for most popular day using the max() - returns a  maximum value for each column\n",
    "### creating the dictionaries to get the popular day name"
   ]
  },
  {
   "cell_type": "code",
   "execution_count": 43,
   "id": "709c81f5-a516-4d28-b420-83d6cdceb284",
   "metadata": {},
   "outputs": [],
   "source": [
    "popular_Day = ny_data['popular_Day'].value_counts().idxmax()\n",
    "day_names = {1:\"Monday\",2:\"Tuesday\",3:\"Wednesday\",4:\"Thursday\",5:\"Friday\",6:\"Saturday\",7:\"Sunday\"}\n",
    "popular_day_name = day_names[popular_Day]"
   ]
  },
  {
   "cell_type": "code",
   "execution_count": 44,
   "id": "02cbcc33-a73b-47c5-8c25-fd8a6db39761",
   "metadata": {},
   "outputs": [
    {
     "data": {
      "text/plain": [
       "'Tuesday'"
      ]
     },
     "execution_count": 44,
     "metadata": {},
     "output_type": "execute_result"
    }
   ],
   "source": [
    "popular_day_name"
   ]
  },
  {
   "cell_type": "code",
   "execution_count": 45,
   "id": "990ea98e-0222-4979-9835-3218103fae68",
   "metadata": {},
   "outputs": [],
   "source": [
    "## finding the solution Most popular Day of Chicago "
   ]
  },
  {
   "cell_type": "code",
   "execution_count": 46,
   "id": "db2516a0-0b1f-4808-93f9-c885205cd613",
   "metadata": {},
   "outputs": [],
   "source": [
    "## converting Start Time into date time format and assigining to ny_data['Day']"
   ]
  },
  {
   "cell_type": "code",
   "execution_count": 47,
   "id": "709b361b-1630-4b06-a590-886500e6e3a0",
   "metadata": {},
   "outputs": [],
   "source": [
    "c_data['Day'] = pd.to_datetime(c_data['Start Time'])"
   ]
  },
  {
   "cell_type": "code",
   "execution_count": 48,
   "id": "3a4b2519-6c0c-4898-aa7d-991691bce707",
   "metadata": {},
   "outputs": [
    {
     "data": {
      "text/plain": [
       "0         2017-01-01 00:00:36\n",
       "1         2017-01-01 00:02:54\n",
       "2         2017-01-01 00:06:06\n",
       "3         2017-01-01 00:07:28\n",
       "4         2017-01-01 00:07:57\n",
       "                  ...        \n",
       "1551500   2017-06-30 23:59:01\n",
       "1551501   2017-06-30 23:59:14\n",
       "1551502   2017-06-30 23:59:18\n",
       "1551503   2017-06-30 23:59:28\n",
       "1551504   2017-06-30 23:59:51\n",
       "Name: Day, Length: 1551505, dtype: datetime64[ns]"
      ]
     },
     "execution_count": 48,
     "metadata": {},
     "output_type": "execute_result"
    }
   ],
   "source": [
    "c_data['Day']"
   ]
  },
  {
   "cell_type": "code",
   "execution_count": 49,
   "id": "394bb547-d8f0-4ff1-ac7e-12c836b1d1b4",
   "metadata": {},
   "outputs": [
    {
     "data": {
      "text/plain": [
       "count                          1551505\n",
       "mean     2017-04-27 12:25:10.597322496\n",
       "min                2017-01-01 00:00:36\n",
       "25%                2017-03-23 17:16:20\n",
       "50%                2017-05-10 07:18:27\n",
       "75%                2017-06-07 19:10:59\n",
       "max                2017-06-30 23:59:51\n",
       "Name: Day, dtype: object"
      ]
     },
     "execution_count": 49,
     "metadata": {},
     "output_type": "execute_result"
    }
   ],
   "source": [
    "c_data['Day'].describe()"
   ]
  },
  {
   "cell_type": "code",
   "execution_count": 50,
   "id": "f084887e-e370-4d5b-b680-4a0e28876237",
   "metadata": {},
   "outputs": [],
   "source": [
    "# Extracting the day from Start time using the function dt.dayofweek "
   ]
  },
  {
   "cell_type": "code",
   "execution_count": 51,
   "id": "25679136-7d1e-43c1-b769-c8e44b7594f1",
   "metadata": {},
   "outputs": [],
   "source": [
    "c_data['popular_Day'] = c_data['Day'].dt.dayofweek"
   ]
  },
  {
   "cell_type": "code",
   "execution_count": 52,
   "id": "c089b1b4-7a13-4bcc-a23a-b0f4d9a994fc",
   "metadata": {},
   "outputs": [
    {
     "data": {
      "text/plain": [
       "count    1.551505e+06\n",
       "mean     2.910945e+00\n",
       "std      1.985899e+00\n",
       "min      0.000000e+00\n",
       "25%      1.000000e+00\n",
       "50%      3.000000e+00\n",
       "75%      5.000000e+00\n",
       "max      6.000000e+00\n",
       "Name: popular_Day, dtype: float64"
      ]
     },
     "execution_count": 52,
     "metadata": {},
     "output_type": "execute_result"
    }
   ],
   "source": [
    "c_data['popular_Day'].describe()"
   ]
  },
  {
   "cell_type": "code",
   "execution_count": 53,
   "id": "c3c5c3fa-cf70-4117-bde9-e92f944e64c8",
   "metadata": {},
   "outputs": [
    {
     "data": {
      "text/plain": [
       "6"
      ]
     },
     "execution_count": 53,
     "metadata": {},
     "output_type": "execute_result"
    }
   ],
   "source": [
    "c_data['popular_Day'].max()"
   ]
  },
  {
   "cell_type": "code",
   "execution_count": 54,
   "id": "f12f3ad6-cec8-4d48-b46b-bc81532250a5",
   "metadata": {},
   "outputs": [],
   "source": [
    "## using v"
   ]
  },
  {
   "cell_type": "code",
   "execution_count": 55,
   "id": "9b93aee1-0acd-4013-8a44-27a505dcad5e",
   "metadata": {},
   "outputs": [],
   "source": [
    "popular_Day = c_data['popular_Day'].value_counts().idxmax()\n",
    "day_names = {1:\"Monday\",2:\"Tuesday\",3:\"Wednesday\",4:\"Thursday\",5:\"Friday\",6:\"Saturday\",7:\"Sunday\"}\n",
    "popular_day_name = day_names[popular_Day]"
   ]
  },
  {
   "cell_type": "code",
   "execution_count": 56,
   "id": "63a2066d-a194-44a9-a08b-a4bc7818e975",
   "metadata": {},
   "outputs": [
    {
     "data": {
      "text/plain": [
       "'Monday'"
      ]
     },
     "execution_count": 56,
     "metadata": {},
     "output_type": "execute_result"
    }
   ],
   "source": [
    "popular_day_name "
   ]
  },
  {
   "cell_type": "code",
   "execution_count": 57,
   "id": "161ee693-9455-4912-a45c-d14ac2382904",
   "metadata": {},
   "outputs": [],
   "source": [
    "## finding the solution Most popular Day of washington"
   ]
  },
  {
   "cell_type": "code",
   "execution_count": 58,
   "id": "f6b410e2-f0a4-44e5-bcb9-3be83980b2ce",
   "metadata": {},
   "outputs": [],
   "source": [
    "## converting Start Time into date time format and replacing invalid Start time values by assigning errors=coerce"
   ]
  },
  {
   "cell_type": "code",
   "execution_count": 59,
   "id": "9d74eedf-7f6c-4d76-b5a4-e03170e25435",
   "metadata": {},
   "outputs": [],
   "source": [
    "w_data['Day'] = pd.to_datetime(w_data['Start Time'],errors='coerce')"
   ]
  },
  {
   "cell_type": "code",
   "execution_count": 60,
   "id": "1ca7ebb4-70df-4483-b7cf-785b438f023b",
   "metadata": {},
   "outputs": [
    {
     "data": {
      "text/plain": [
       "count                           409600\n",
       "mean     2017-02-03 20:02:24.159814400\n",
       "min                2017-01-01 00:00:00\n",
       "25%                2017-01-20 16:26:45\n",
       "50%                2017-02-05 14:49:00\n",
       "75%                2017-02-19 11:44:00\n",
       "max                2017-03-01 21:12:00\n",
       "Name: Day, dtype: object"
      ]
     },
     "execution_count": 60,
     "metadata": {},
     "output_type": "execute_result"
    }
   ],
   "source": [
    "w_data['Day'].describe()"
   ]
  },
  {
   "cell_type": "code",
   "execution_count": 61,
   "id": "2b1e14cd-4e84-4506-86a0-03e0e09fc158",
   "metadata": {},
   "outputs": [],
   "source": [
    "# Extracting the day from Start time using the function dt.dayofweek "
   ]
  },
  {
   "cell_type": "code",
   "execution_count": 62,
   "id": "ec324f68-0777-43f5-8b16-84fff4b5fda8",
   "metadata": {},
   "outputs": [
    {
     "data": {
      "text/plain": [
       "0         6.0\n",
       "1         6.0\n",
       "2         6.0\n",
       "3         6.0\n",
       "4         6.0\n",
       "         ... \n",
       "409596    2.0\n",
       "409597    2.0\n",
       "409598    2.0\n",
       "409599    2.0\n",
       "409600    NaN\n",
       "Name: popular_Day, Length: 409601, dtype: float64"
      ]
     },
     "execution_count": 62,
     "metadata": {},
     "output_type": "execute_result"
    }
   ],
   "source": [
    "w_data['popular_Day'] =w_data['Day'].dt.dayofweek\n",
    "w_data['popular_Day']"
   ]
  },
  {
   "cell_type": "code",
   "execution_count": 63,
   "id": "0a36db27-3952-444d-8c40-931f731575fb",
   "metadata": {},
   "outputs": [],
   "source": [
    "popular_Day = w_data['popular_Day'].value_counts().idxmax()\n",
    "day_names = {1:\"Monday\",2:\"Tuesday\",3:\"Wednesday\",4:\"Thursday\",5:\"Friday\",6:\"Saturday\",7:\"Sunday\"}\n",
    "w_popular_day_name = day_names[popular_Day]"
   ]
  },
  {
   "cell_type": "code",
   "execution_count": 64,
   "id": "ca789906-d80e-4a9f-8fd6-af05fc34b12b",
   "metadata": {},
   "outputs": [
    {
     "data": {
      "text/plain": [
       "'Tuesday'"
      ]
     },
     "execution_count": 64,
     "metadata": {},
     "output_type": "execute_result"
    }
   ],
   "source": [
    "w_popular_day_name"
   ]
  },
  {
   "cell_type": "markdown",
   "id": "4f187ce8-bd48-484c-888d-1f987329b634",
   "metadata": {},
   "source": [
    "### What is the most popular hour of day for start time?\n"
   ]
  },
  {
   "cell_type": "code",
   "execution_count": 65,
   "id": "43266e58-3858-4c2b-a3ea-a92caf76b90f",
   "metadata": {},
   "outputs": [],
   "source": [
    "## finding Most popular hour of newyork"
   ]
  },
  {
   "cell_type": "code",
   "execution_count": 66,
   "id": "de9ccdf1-cee1-4283-8e1c-7f6a4c683073",
   "metadata": {},
   "outputs": [],
   "source": [
    "## converting Start Time into date time format"
   ]
  },
  {
   "cell_type": "code",
   "execution_count": 67,
   "id": "ca305cc3-b781-49e1-9782-5344ef4d7bdd",
   "metadata": {},
   "outputs": [
    {
     "data": {
      "text/plain": [
       "0         2017-01-01 00:00:21\n",
       "1         2017-01-01 00:00:45\n",
       "2         2017-01-01 00:00:57\n",
       "3         2017-01-01 00:01:10\n",
       "4         2017-01-01 00:01:25\n",
       "                  ...        \n",
       "6816249   2017-06-30 23:59:30\n",
       "6816250   2017-06-30 23:59:40\n",
       "6816251   2017-06-30 23:59:47\n",
       "6816252   2017-06-30 23:59:45\n",
       "6816253   2017-06-30 23:59:53\n",
       "Name: hour, Length: 6816254, dtype: datetime64[ns]"
      ]
     },
     "execution_count": 67,
     "metadata": {},
     "output_type": "execute_result"
    }
   ],
   "source": [
    "ny_data['hour'] = pd.to_datetime(ny_data['Start Time'])\n",
    "ny_data['hour']"
   ]
  },
  {
   "cell_type": "code",
   "execution_count": 68,
   "id": "1ad95fd5-9e89-4a08-8221-0ef842debfeb",
   "metadata": {},
   "outputs": [],
   "source": [
    "# extracting the hour from Start time using dt.hour"
   ]
  },
  {
   "cell_type": "code",
   "execution_count": 69,
   "id": "3074fd29-c199-43c6-96f0-c27a6d7fc61e",
   "metadata": {},
   "outputs": [],
   "source": [
    "ny_data['hour']= ny_data['hour'].dt.hour"
   ]
  },
  {
   "cell_type": "code",
   "execution_count": 70,
   "id": "410b2872-d9e1-44a4-bc5d-68a594c62301",
   "metadata": {},
   "outputs": [
    {
     "data": {
      "text/plain": [
       "0           0\n",
       "1           0\n",
       "2           0\n",
       "3           0\n",
       "4           0\n",
       "           ..\n",
       "6816249    23\n",
       "6816250    23\n",
       "6816251    23\n",
       "6816252    23\n",
       "6816253    23\n",
       "Name: hour, Length: 6816254, dtype: int32"
      ]
     },
     "execution_count": 70,
     "metadata": {},
     "output_type": "execute_result"
    }
   ],
   "source": [
    "ny_data['hour']"
   ]
  },
  {
   "cell_type": "code",
   "execution_count": 71,
   "id": "d08b432e-c048-46fc-9991-a5b9a69cb424",
   "metadata": {},
   "outputs": [],
   "source": [
    "## using value_counts() to return counts of the uqique values which occured most frequently in hour and idxmax() returns the row label of maximum value\n",
    "## why i used value_counts().idxmax() function instead of max() is to find the most popular value. if I use max() function I only get the maximum value of column which I selected."
   ]
  },
  {
   "cell_type": "code",
   "execution_count": 72,
   "id": "dd8ae345-42c1-4013-bc0c-ad48033626af",
   "metadata": {},
   "outputs": [],
   "source": [
    "most_popular_hour = ny_data['hour'].value_counts().idxmax()"
   ]
  },
  {
   "cell_type": "code",
   "execution_count": 73,
   "id": "746fc4a9-480e-47b4-9bcc-57b4f95ce29c",
   "metadata": {},
   "outputs": [
    {
     "data": {
      "text/plain": [
       "17"
      ]
     },
     "execution_count": 73,
     "metadata": {},
     "output_type": "execute_result"
    }
   ],
   "source": [
    "most_popular_hour"
   ]
  },
  {
   "cell_type": "code",
   "execution_count": 74,
   "id": "de452935-9ccd-4499-899a-7da6bdfc66ff",
   "metadata": {},
   "outputs": [],
   "source": [
    "## finding Most popular hour of chicago"
   ]
  },
  {
   "cell_type": "code",
   "execution_count": 75,
   "id": "cfa40ae5-90a3-4f69-a4d4-159afd21a452",
   "metadata": {},
   "outputs": [
    {
     "data": {
      "text/plain": [
       "0         2017-01-01 00:00:36\n",
       "1         2017-01-01 00:02:54\n",
       "2         2017-01-01 00:06:06\n",
       "3         2017-01-01 00:07:28\n",
       "4         2017-01-01 00:07:57\n",
       "                  ...        \n",
       "1551500   2017-06-30 23:59:01\n",
       "1551501   2017-06-30 23:59:14\n",
       "1551502   2017-06-30 23:59:18\n",
       "1551503   2017-06-30 23:59:28\n",
       "1551504   2017-06-30 23:59:51\n",
       "Name: hour, Length: 1551505, dtype: datetime64[ns]"
      ]
     },
     "execution_count": 75,
     "metadata": {},
     "output_type": "execute_result"
    }
   ],
   "source": [
    "c_data['hour'] = pd.to_datetime(c_data['Start Time'])\n",
    "c_data['hour']"
   ]
  },
  {
   "cell_type": "code",
   "execution_count": 76,
   "id": "5d45108c-2bac-4278-a83e-d9a1eec260fb",
   "metadata": {},
   "outputs": [],
   "source": [
    "# extracting the hour from Start time using dt.hour"
   ]
  },
  {
   "cell_type": "code",
   "execution_count": 77,
   "id": "f35ae44d-745c-4ea2-af2f-a2cb9039f849",
   "metadata": {},
   "outputs": [],
   "source": [
    "c_data['hour']= c_data['hour'].dt.hour"
   ]
  },
  {
   "cell_type": "code",
   "execution_count": 78,
   "id": "8cb0f48d-9510-4804-8fd7-b1f7e1fe7f6d",
   "metadata": {},
   "outputs": [
    {
     "data": {
      "text/plain": [
       "0           0\n",
       "1           0\n",
       "2           0\n",
       "3           0\n",
       "4           0\n",
       "           ..\n",
       "1551500    23\n",
       "1551501    23\n",
       "1551502    23\n",
       "1551503    23\n",
       "1551504    23\n",
       "Name: hour, Length: 1551505, dtype: int32"
      ]
     },
     "execution_count": 78,
     "metadata": {},
     "output_type": "execute_result"
    }
   ],
   "source": [
    "c_data['hour']"
   ]
  },
  {
   "cell_type": "code",
   "execution_count": 79,
   "id": "9d2a447e-8d1f-4cac-a423-76d4028585ae",
   "metadata": {},
   "outputs": [],
   "source": [
    "## using value_counts() to return counts of the uqique values which occured most frequently in hour and idxmax() returns the row label of maximum value\n",
    "## why i used value_counts().idxmax() function instead of max() is to find the most popular value. if I use max() function I only get the maximum value of column which I selected."
   ]
  },
  {
   "cell_type": "code",
   "execution_count": 80,
   "id": "9d01d5a4-15da-4dd9-bdb7-8e70d3f074cd",
   "metadata": {},
   "outputs": [
    {
     "data": {
      "text/plain": [
       "17"
      ]
     },
     "execution_count": 80,
     "metadata": {},
     "output_type": "execute_result"
    }
   ],
   "source": [
    "most_popular_hour = c_data['hour'].value_counts().idxmax()\n",
    "most_popular_hour"
   ]
  },
  {
   "cell_type": "code",
   "execution_count": 81,
   "id": "728b6c7b-2c64-4895-8661-2a98f1fa5c0d",
   "metadata": {},
   "outputs": [],
   "source": [
    "## finding Most popular hour of washington"
   ]
  },
  {
   "cell_type": "code",
   "execution_count": 82,
   "id": "fa790ffc-b034-4ff5-a845-3fbac8b94a72",
   "metadata": {},
   "outputs": [
    {
     "data": {
      "text/plain": [
       "0        2017-01-01 00:00:00\n",
       "1        2017-01-01 00:06:00\n",
       "2        2017-01-01 00:07:00\n",
       "3        2017-01-01 00:07:00\n",
       "4        2017-01-01 00:07:00\n",
       "                 ...        \n",
       "409596   2017-03-01 21:11:00\n",
       "409597   2017-03-01 21:11:00\n",
       "409598   2017-03-01 21:12:00\n",
       "409599   2017-03-01 21:12:00\n",
       "409600                   NaT\n",
       "Name: hour, Length: 409601, dtype: datetime64[ns]"
      ]
     },
     "execution_count": 82,
     "metadata": {},
     "output_type": "execute_result"
    }
   ],
   "source": [
    "w_data['hour'] = pd.to_datetime(w_data['Start Time'], errors='coerce')\n",
    "w_data['hour']"
   ]
  },
  {
   "cell_type": "code",
   "execution_count": 83,
   "id": "08245bb9-8afc-4a95-92e1-d57025c2bdee",
   "metadata": {},
   "outputs": [],
   "source": [
    "# extracting the hour from Start time using dt.hour"
   ]
  },
  {
   "cell_type": "code",
   "execution_count": 84,
   "id": "4b6f6557-7b50-4894-a7e0-f86c39f2959b",
   "metadata": {},
   "outputs": [
    {
     "data": {
      "text/plain": [
       "0          0.0\n",
       "1          0.0\n",
       "2          0.0\n",
       "3          0.0\n",
       "4          0.0\n",
       "          ... \n",
       "409596    21.0\n",
       "409597    21.0\n",
       "409598    21.0\n",
       "409599    21.0\n",
       "409600     NaN\n",
       "Name: hour, Length: 409601, dtype: float64"
      ]
     },
     "execution_count": 84,
     "metadata": {},
     "output_type": "execute_result"
    }
   ],
   "source": [
    "w_data['hour']= w_data['hour'].dt.hour\n",
    "w_data['hour']"
   ]
  },
  {
   "cell_type": "code",
   "execution_count": 85,
   "id": "103494f0-3d62-432f-914e-6ab8ee62810b",
   "metadata": {},
   "outputs": [],
   "source": [
    "## using value_counts() to return counts of the uqique values which occured most frequently in hour and idxmax() returns the row label of maximum value\n",
    "## why i used value_counts().idxmax() function instead of max() is to find the most popular value. if I use max() function I only get the maximum value of column which I selected."
   ]
  },
  {
   "cell_type": "code",
   "execution_count": 86,
   "id": "a02ac1b2-53af-4ae7-85ee-ad18240fc8f4",
   "metadata": {},
   "outputs": [
    {
     "data": {
      "text/plain": [
       "17.0"
      ]
     },
     "execution_count": 86,
     "metadata": {},
     "output_type": "execute_result"
    }
   ],
   "source": [
    "most_popular_hour = w_data['hour'].value_counts().idxmax()\n",
    "most_popular_hour"
   ]
  },
  {
   "cell_type": "markdown",
   "id": "41ebf1a1-406b-4a92-88dc-6ef84f04cf27",
   "metadata": {},
   "source": [
    "### What is the total trip duration and average trip duration?\r\n"
   ]
  },
  {
   "cell_type": "code",
   "execution_count": 87,
   "id": "249f0ebb-adf2-49b9-93dc-5a04b9049633",
   "metadata": {},
   "outputs": [],
   "source": [
    "## Total trip duration for Newyork city using sum()"
   ]
  },
  {
   "cell_type": "code",
   "execution_count": 88,
   "id": "f8e213f9-646b-4187-8406-4cf49eca6d67",
   "metadata": {},
   "outputs": [
    {
     "data": {
      "text/plain": [
       "6567146165"
      ]
     },
     "execution_count": 88,
     "metadata": {},
     "output_type": "execute_result"
    }
   ],
   "source": [
    "total_trip_duration = ny_data['Trip Duration'].sum()\n",
    "total_trip_duration"
   ]
  },
  {
   "cell_type": "code",
   "execution_count": 89,
   "id": "76e53a0f-5640-4798-907c-a93205cc00a4",
   "metadata": {},
   "outputs": [],
   "source": [
    "## average drip duration for Newyork city using mean()"
   ]
  },
  {
   "cell_type": "code",
   "execution_count": 90,
   "id": "446c4251-4b05-4f24-b6bb-b1addaa442ee",
   "metadata": {},
   "outputs": [
    {
     "data": {
      "text/plain": [
       "963.4538508981619"
      ]
     },
     "execution_count": 90,
     "metadata": {},
     "output_type": "execute_result"
    }
   ],
   "source": [
    "average_trip_duration = ny_data['Trip Duration'].mean()\n",
    "average_trip_duration"
   ]
  },
  {
   "cell_type": "code",
   "execution_count": 91,
   "id": "26b6ab2f-4740-43d6-8982-ada2d30b9f82",
   "metadata": {},
   "outputs": [],
   "source": [
    "## Total drip duration for Chicago"
   ]
  },
  {
   "cell_type": "code",
   "execution_count": 92,
   "id": "916b46f8-f2cf-4366-b45d-ccdff8df22ff",
   "metadata": {},
   "outputs": [
    {
     "data": {
      "text/plain": [
       "1458069892"
      ]
     },
     "execution_count": 92,
     "metadata": {},
     "output_type": "execute_result"
    }
   ],
   "source": [
    "total_trip_duration = c_data['Trip Duration'].sum()\n",
    "total_trip_duration"
   ]
  },
  {
   "cell_type": "code",
   "execution_count": 93,
   "id": "59c657a1-dd1b-42cb-ae9b-cbe25377e534",
   "metadata": {},
   "outputs": [],
   "source": [
    "## average drip duration for Chicago"
   ]
  },
  {
   "cell_type": "code",
   "execution_count": 94,
   "id": "370f9b9d-a8c6-4297-b611-0c32ab9d2226",
   "metadata": {},
   "outputs": [
    {
     "data": {
      "text/plain": [
       "939.7777590146342"
      ]
     },
     "execution_count": 94,
     "metadata": {},
     "output_type": "execute_result"
    }
   ],
   "source": [
    "average_trip_duration = c_data['Trip Duration'].mean()\n",
    "average_trip_duration"
   ]
  },
  {
   "cell_type": "code",
   "execution_count": 95,
   "id": "a4bf27d9-5c70-40d5-917c-bb2d955d4d14",
   "metadata": {},
   "outputs": [],
   "source": [
    "## Total drip duration for Washington"
   ]
  },
  {
   "cell_type": "code",
   "execution_count": 96,
   "id": "92658138-6367-4485-a614-e0733aa78378",
   "metadata": {},
   "outputs": [
    {
     "data": {
      "text/plain": [
       "399393218.35899985"
      ]
     },
     "execution_count": 96,
     "metadata": {},
     "output_type": "execute_result"
    }
   ],
   "source": [
    "total_trip_duration = w_data['Trip Duration'].sum()\n",
    "total_trip_duration"
   ]
  },
  {
   "cell_type": "code",
   "execution_count": 97,
   "id": "e40aad36-ae27-4cb2-b4b8-a82c12f095c6",
   "metadata": {},
   "outputs": [],
   "source": [
    "## average drip duration for Newyork city"
   ]
  },
  {
   "cell_type": "code",
   "execution_count": 98,
   "id": "2c22d23b-316c-453f-9ce5-b0ed73c1c00f",
   "metadata": {},
   "outputs": [
    {
     "data": {
      "text/plain": [
       "975.081099509277"
      ]
     },
     "execution_count": 98,
     "metadata": {},
     "output_type": "execute_result"
    }
   ],
   "source": [
    "average_trip_duration = w_data['Trip Duration'].mean()\n",
    "average_trip_duration"
   ]
  },
  {
   "cell_type": "markdown",
   "id": "dc738bc2-d9cb-4638-afd1-03abe9ed7565",
   "metadata": {},
   "source": [
    "### What is the most popular start station and most popular end station?"
   ]
  },
  {
   "cell_type": "code",
   "execution_count": 99,
   "id": "a1498ac7-aed3-4281-9bd7-6e0f6b156454",
   "metadata": {},
   "outputs": [],
   "source": [
    "## Most popular start station for Newyork City"
   ]
  },
  {
   "cell_type": "code",
   "execution_count": 100,
   "id": "9b8a0f79-0028-4561-bbec-a38e123afb73",
   "metadata": {},
   "outputs": [
    {
     "data": {
      "text/plain": [
       "0             W 82 St & Central Park West\n",
       "1                  Cooper Square & E 7 St\n",
       "2                         5 Ave & E 78 St\n",
       "3                         5 Ave & E 78 St\n",
       "4                         5 Ave & E 78 St\n",
       "                        ...              \n",
       "6816249    Metropolitan Ave & Bedford Ave\n",
       "6816250             Liberty St & Broadway\n",
       "6816251                   W 41 St & 8 Ave\n",
       "6816252           Watts St & Greenwich St\n",
       "6816253            University Pl & E 8 St\n",
       "Name: Start Station, Length: 6816254, dtype: object"
      ]
     },
     "execution_count": 100,
     "metadata": {},
     "output_type": "execute_result"
    }
   ],
   "source": [
    "startstation = ny_data['Start Station']\n",
    "startstation"
   ]
  },
  {
   "cell_type": "code",
   "execution_count": 101,
   "id": "24641642-6015-4a4d-b5dc-d95a101bd90b",
   "metadata": {},
   "outputs": [
    {
     "data": {
      "text/plain": [
       "count                   6816254\n",
       "unique                      651\n",
       "top       Pershing Square North\n",
       "freq                      71108\n",
       "Name: Start Station, dtype: object"
      ]
     },
     "execution_count": 101,
     "metadata": {},
     "output_type": "execute_result"
    }
   ],
   "source": [
    "startstation.describe()"
   ]
  },
  {
   "cell_type": "code",
   "execution_count": 102,
   "id": "3e76e5a8-d10f-4878-8f82-da4bb30fe47d",
   "metadata": {},
   "outputs": [],
   "source": [
    "## using value_counts() to return counts of the uqique values in satrt station and idxmax() returns the row label of maximum value\n",
    "## if I use the max() it will throw the output of maximum value of the text in that column"
   ]
  },
  {
   "cell_type": "code",
   "execution_count": 103,
   "id": "fbf050a8-d2be-4848-b728-8fb9730d10b6",
   "metadata": {},
   "outputs": [
    {
     "data": {
      "text/plain": [
       "'Pershing Square North'"
      ]
     },
     "execution_count": 103,
     "metadata": {},
     "output_type": "execute_result"
    }
   ],
   "source": [
    "most_popular_startstation_newyork = startstation.value_counts().idxmax()\n",
    "most_popular_startstation_newyork"
   ]
  },
  {
   "cell_type": "code",
   "execution_count": 104,
   "id": "bbf938e5-68e2-48c1-8ee6-fa05d82182cb",
   "metadata": {},
   "outputs": [],
   "source": [
    "## Most popular end station for Newyork City"
   ]
  },
  {
   "cell_type": "code",
   "execution_count": 105,
   "id": "4c385c8f-9269-4f85-a87a-fff19e54c2ce",
   "metadata": {},
   "outputs": [],
   "source": [
    "## using value_counts() to return counts of the uqique values in satrt station and idxmax() returns the row label of maximum value"
   ]
  },
  {
   "cell_type": "code",
   "execution_count": 106,
   "id": "048cb2e7-b562-459d-ac92-c7dc528d348f",
   "metadata": {},
   "outputs": [
    {
     "data": {
      "text/plain": [
       "0          Central Park West & W 72 St\n",
       "1                   Broadway & W 32 St\n",
       "2                      3 Ave & E 71 St\n",
       "3                      3 Ave & E 71 St\n",
       "4                      3 Ave & E 71 St\n",
       "                      ...             \n",
       "6816249       Bedford Ave & Nassau Ave\n",
       "6816250            St Marks Pl & 1 Ave\n",
       "6816251             W 95 St & Broadway\n",
       "6816252           Hudson St & Reade St\n",
       "6816253     South End Ave & Liberty St\n",
       "Name: End Station, Length: 6816254, dtype: object"
      ]
     },
     "execution_count": 106,
     "metadata": {},
     "output_type": "execute_result"
    }
   ],
   "source": [
    "EndStation = ny_data['End Station']\n",
    "EndStation"
   ]
  },
  {
   "cell_type": "code",
   "execution_count": 107,
   "id": "16fbadc2-4b96-4acf-91c8-e65c8d5e3d52",
   "metadata": {},
   "outputs": [
    {
     "data": {
      "text/plain": [
       "count                   6816254\n",
       "unique                      670\n",
       "top       Pershing Square North\n",
       "freq                      70048\n",
       "Name: End Station, dtype: object"
      ]
     },
     "execution_count": 107,
     "metadata": {},
     "output_type": "execute_result"
    }
   ],
   "source": [
    "EndStation.describe()"
   ]
  },
  {
   "cell_type": "code",
   "execution_count": 108,
   "id": "aae8444f-bea1-4e55-917a-dbcdc870abcb",
   "metadata": {},
   "outputs": [],
   "source": [
    "## using value_counts() to return counts of the uqique values in satrt station and idxmax() returns the row label of maximum value"
   ]
  },
  {
   "cell_type": "code",
   "execution_count": 109,
   "id": "9bfd7103-fbba-45d6-a588-6228f27d3d22",
   "metadata": {},
   "outputs": [
    {
     "data": {
      "text/plain": [
       "'Pershing Square North'"
      ]
     },
     "execution_count": 109,
     "metadata": {},
     "output_type": "execute_result"
    }
   ],
   "source": [
    "most_popular_endstation_newyork = EndStation.value_counts().idxmax()\n",
    "most_popular_endstation_newyork"
   ]
  },
  {
   "cell_type": "code",
   "execution_count": 110,
   "id": "424b444e-06f9-44a8-95be-b332d692364c",
   "metadata": {},
   "outputs": [],
   "source": [
    "## Most Popular Start Station for Chicago"
   ]
  },
  {
   "cell_type": "code",
   "execution_count": 111,
   "id": "47586401-91d6-4ac1-9766-d0660169033c",
   "metadata": {},
   "outputs": [
    {
     "data": {
      "text/plain": [
       "'Streeter Dr & Grand Ave'"
      ]
     },
     "execution_count": 111,
     "metadata": {},
     "output_type": "execute_result"
    }
   ],
   "source": [
    "most_popular_startstation_chicago = c_data['Start Station'].value_counts().idxmax()\n",
    "most_popular_startstation_chicago"
   ]
  },
  {
   "cell_type": "code",
   "execution_count": 112,
   "id": "0c693a0c-f464-4c7e-98b6-42d551fb956e",
   "metadata": {},
   "outputs": [],
   "source": [
    "## Most Popular End Station for Chicago"
   ]
  },
  {
   "cell_type": "code",
   "execution_count": 113,
   "id": "46d8a65b-c56f-482d-9ac4-708e231007fc",
   "metadata": {},
   "outputs": [],
   "source": [
    "## using value_counts() to return counts of the uqique values in satrt station and idxmax() returns the row label of maximum value"
   ]
  },
  {
   "cell_type": "code",
   "execution_count": 114,
   "id": "4c0bef2e-2de7-4882-8823-482bb5f6f278",
   "metadata": {},
   "outputs": [
    {
     "data": {
      "text/plain": [
       "'Streeter Dr & Grand Ave'"
      ]
     },
     "execution_count": 114,
     "metadata": {},
     "output_type": "execute_result"
    }
   ],
   "source": [
    "most_popular_endstation_chicago = c_data['End Station'].value_counts().idxmax()\n",
    "most_popular_endstation_chicago"
   ]
  },
  {
   "cell_type": "code",
   "execution_count": 115,
   "id": "8cc907a6-d685-4962-ba28-3736c0676d8f",
   "metadata": {},
   "outputs": [
    {
     "data": {
      "text/plain": [
       "count                     1551505\n",
       "unique                        581\n",
       "top       Streeter Dr & Grand Ave\n",
       "freq                        39537\n",
       "Name: End Station, dtype: object"
      ]
     },
     "execution_count": 115,
     "metadata": {},
     "output_type": "execute_result"
    }
   ],
   "source": [
    " c_data['End Station'].describe()"
   ]
  },
  {
   "cell_type": "code",
   "execution_count": 116,
   "id": "4a521e49-4ef1-4144-a5f1-dff9e490688f",
   "metadata": {},
   "outputs": [],
   "source": [
    "## Most Popular Start Station for Washington"
   ]
  },
  {
   "cell_type": "code",
   "execution_count": 117,
   "id": "720c757b-1172-44e6-847b-2c39ce8ff79a",
   "metadata": {},
   "outputs": [],
   "source": [
    "## using value_counts() to return counts of the uqique values in satrt station and idxmax() returns the row label of maximum value"
   ]
  },
  {
   "cell_type": "code",
   "execution_count": 118,
   "id": "5bdac1d9-2ae9-493d-922b-4433015af23e",
   "metadata": {},
   "outputs": [
    {
     "data": {
      "text/plain": [
       "'Columbus Circle / Union Station'"
      ]
     },
     "execution_count": 118,
     "metadata": {},
     "output_type": "execute_result"
    }
   ],
   "source": [
    "most_popular_startstation_washington = w_data['Start Station'].value_counts().idxmax()\n",
    "most_popular_startstation_washington"
   ]
  },
  {
   "cell_type": "code",
   "execution_count": 119,
   "id": "82a99760-55d2-4f7b-a28b-897d432fa710",
   "metadata": {},
   "outputs": [],
   "source": [
    "## Most Popular end Station for Washington"
   ]
  },
  {
   "cell_type": "code",
   "execution_count": 120,
   "id": "76bdb881-df35-4f93-bc4e-7978fb714779",
   "metadata": {},
   "outputs": [],
   "source": [
    "## using value_counts() to return counts of the uqique values which occured most frequently in start station and idxmax() returns the row label of maximum value"
   ]
  },
  {
   "cell_type": "code",
   "execution_count": 121,
   "id": "411a00a3-aafa-4707-bcda-cdb67f8810a1",
   "metadata": {},
   "outputs": [
    {
     "data": {
      "text/plain": [
       "'Columbus Circle / Union Station'"
      ]
     },
     "execution_count": 121,
     "metadata": {},
     "output_type": "execute_result"
    }
   ],
   "source": [
    "most_popular_endstation_washington = w_data['End Station'].value_counts().idxmax()\n",
    "most_popular_endstation_washington"
   ]
  },
  {
   "cell_type": "markdown",
   "id": "54d795d6-3454-499d-bed9-8a02aa114794",
   "metadata": {},
   "source": [
    "### What is the most popular trip?\n"
   ]
  },
  {
   "cell_type": "code",
   "execution_count": 122,
   "id": "a6492780-0738-45bd-a478-4de064509411",
   "metadata": {},
   "outputs": [
    {
     "data": {
      "text/plain": [
       "'E 7 St & Avenue A-Cooper Square & E 7 St'"
      ]
     },
     "execution_count": 122,
     "metadata": {},
     "output_type": "execute_result"
    }
   ],
   "source": [
    "most_popular_trip = (ny_data['Start Station'] + '-' +  ny_data['End Station']).value_counts().idxmax()\n",
    "most_popular_trip"
   ]
  },
  {
   "cell_type": "code",
   "execution_count": 123,
   "id": "43c8fc82-0999-46fd-8c4b-0eab7c34c394",
   "metadata": {},
   "outputs": [
    {
     "data": {
      "text/plain": [
       "'Lake Shore Dr & Monroe St-Streeter Dr & Grand Ave'"
      ]
     },
     "execution_count": 123,
     "metadata": {},
     "output_type": "execute_result"
    }
   ],
   "source": [
    "most_popular_trip = (c_data['Start Station'] + '-' + c_data['End Station']).value_counts().idxmax()\n",
    "most_popular_trip"
   ]
  },
  {
   "cell_type": "code",
   "execution_count": 124,
   "id": "ec6988d3-ac13-4f3d-b365-95ddf591639d",
   "metadata": {},
   "outputs": [
    {
     "data": {
      "text/plain": [
       "'Columbus Circle / Union Station-8th & F St NE'"
      ]
     },
     "execution_count": 124,
     "metadata": {},
     "output_type": "execute_result"
    }
   ],
   "source": [
    "most_popular_trip = (w_data['Start Station'] + '-' + w_data['End Station']).value_counts().idxmax()\n",
    "most_popular_trip"
   ]
  },
  {
   "cell_type": "markdown",
   "id": "0b2256be-5a82-4367-b58f-902b234567a2",
   "metadata": {},
   "source": [
    "### What are the counts of each user type?\n"
   ]
  },
  {
   "cell_type": "code",
   "execution_count": 125,
   "id": "b533a2ce-d91c-4dc3-9160-0c0260182aa2",
   "metadata": {},
   "outputs": [],
   "source": [
    "### counts of each user type in Newyork"
   ]
  },
  {
   "cell_type": "code",
   "execution_count": 126,
   "id": "a6270dc4-2723-48b3-9dde-ce9d61ac5648",
   "metadata": {},
   "outputs": [],
   "source": [
    "### counts of each user type in Newyork using value_counts() which returns count of unique value which occured frequently in user type"
   ]
  },
  {
   "cell_type": "code",
   "execution_count": 127,
   "id": "e95e6502-e9dd-405c-b5b4-d1a02498a5eb",
   "metadata": {},
   "outputs": [
    {
     "data": {
      "text/plain": [
       "count        6800345\n",
       "unique             2\n",
       "top       Subscriber\n",
       "freq         6114372\n",
       "Name: User Type, dtype: object"
      ]
     },
     "execution_count": 127,
     "metadata": {},
     "output_type": "execute_result"
    }
   ],
   "source": [
    "ny_data['User Type'].describe()"
   ]
  },
  {
   "cell_type": "code",
   "execution_count": 128,
   "id": "3fed85a4-fb1c-4246-9310-20a7dc4a9894",
   "metadata": {},
   "outputs": [],
   "source": [
    "user_count = ny_data['User Type'].value_counts()"
   ]
  },
  {
   "cell_type": "code",
   "execution_count": 129,
   "id": "cf653827-a931-40a1-a52b-4ce5cc627fa5",
   "metadata": {},
   "outputs": [
    {
     "data": {
      "text/plain": [
       "User Type\n",
       "Subscriber    6114372\n",
       "Customer       685973\n",
       "Name: count, dtype: int64"
      ]
     },
     "execution_count": 129,
     "metadata": {},
     "output_type": "execute_result"
    }
   ],
   "source": [
    "user_count"
   ]
  },
  {
   "cell_type": "code",
   "execution_count": 130,
   "id": "282439e8-6e01-4e86-8e47-5c37051fe244",
   "metadata": {},
   "outputs": [],
   "source": [
    "### counts of each user type in chicago using value_counts() which returns count of unique value which occured frequently in user type"
   ]
  },
  {
   "cell_type": "code",
   "execution_count": 131,
   "id": "5563b23c-d02b-4b78-8f45-9115a75eaccf",
   "metadata": {},
   "outputs": [],
   "source": [
    "user_count = c_data['User Type'].value_counts()"
   ]
  },
  {
   "cell_type": "code",
   "execution_count": 132,
   "id": "58886aaf-0bc1-4161-8147-e68866835722",
   "metadata": {},
   "outputs": [
    {
     "data": {
      "text/plain": [
       "User Type\n",
       "Subscriber    1234339\n",
       "Customer       317162\n",
       "Dependent           4\n",
       "Name: count, dtype: int64"
      ]
     },
     "execution_count": 132,
     "metadata": {},
     "output_type": "execute_result"
    }
   ],
   "source": [
    "user_count"
   ]
  },
  {
   "cell_type": "code",
   "execution_count": 133,
   "id": "8c81b481-6776-442c-bcf5-03faabab3b0b",
   "metadata": {},
   "outputs": [],
   "source": [
    "### counts of each user type in Washington using value_counts() which returns count of unique value which occured frequently in user type"
   ]
  },
  {
   "cell_type": "code",
   "execution_count": 134,
   "id": "105e6cc3-7283-47d5-b7a6-cf98fc98fcc1",
   "metadata": {},
   "outputs": [
    {
     "data": {
      "text/plain": [
       "User Type\n",
       "Subscriber    342894\n",
       "Customer       66706\n",
       "Name: count, dtype: int64"
      ]
     },
     "execution_count": 134,
     "metadata": {},
     "output_type": "execute_result"
    }
   ],
   "source": [
    "user_count = w_data['User Type'].value_counts()\n",
    "user_count"
   ]
  }
 ],
 "metadata": {
  "kernelspec": {
   "display_name": "Python 3 (ipykernel)",
   "language": "python",
   "name": "python3"
  },
  "language_info": {
   "codemirror_mode": {
    "name": "ipython",
    "version": 3
   },
   "file_extension": ".py",
   "mimetype": "text/x-python",
   "name": "python",
   "nbconvert_exporter": "python",
   "pygments_lexer": "ipython3",
   "version": "3.11.7"
  }
 },
 "nbformat": 4,
 "nbformat_minor": 5
}
